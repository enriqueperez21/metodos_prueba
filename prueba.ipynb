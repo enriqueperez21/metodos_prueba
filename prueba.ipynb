{
 "cells": [
  {
   "cell_type": "code",
   "execution_count": 1,
   "metadata": {},
   "outputs": [],
   "source": [
    "%load_ext autoreload"
   ]
  },
  {
   "cell_type": "markdown",
   "metadata": {},
   "source": [
    "# Examen"
   ]
  },
  {
   "cell_type": "markdown",
   "metadata": {},
   "source": [
    "# Mínimos cuadrados"
   ]
  },
  {
   "cell_type": "markdown",
   "metadata": {},
   "source": [
    "## Conjunto de datos 2"
   ]
  },
  {
   "cell_type": "code",
   "execution_count": 2,
   "metadata": {},
   "outputs": [],
   "source": [
    "xs2 = [\n",
    "    -5.0000,\n",
    "    -3.8889,\n",
    "    -2.7778,\n",
    "    -1.6667,\n",
    "    -0.5556,\n",
    "    0.5556,\n",
    "    1.6667,\n",
    "    2.7778,\n",
    "    3.8889,\n",
    "    5.0000,\n",
    "]\n",
    "ys2 = [\n",
    "    57.2441,\n",
    "    33.0303,\n",
    "    16.4817,\n",
    "    7.0299,\n",
    "    0.5498,\n",
    "    0.7117,\n",
    "    3.4185,\n",
    "    12.1767,\n",
    "    24.9167,\n",
    "    44.2495,\n",
    "]"
   ]
  },
  {
   "cell_type": "code",
   "execution_count": 3,
   "metadata": {},
   "outputs": [
    {
     "data": {
      "image/png": "[encoded data removed]",
      "text/plain": [
       "<Figure size 640x480 with 1 Axes>"
      ]
     },
     "metadata": {},
     "output_type": "display_data"
    }
   ],
   "source": [
    "import numpy as np\n",
    "import matplotlib.pyplot as plt\n",
    "\n",
    "plt.scatter(xs2, ys2)\n",
    "plt.xlabel(\"x\")\n",
    "plt.ylabel(\"y\")\n",
    "plt.title(\"Conjunto de datos 2\")\n",
    "plt.show()"
   ]
  },
  {
   "cell_type": "markdown",
   "metadata": {},
   "source": [
    "# Indicaciones\n",
    "Su trabajo es ajustar el código para utilizar una función cuadrática que aproxime los puntos. Tenga en cuenta las siguientes consideraciones:\n",
    "* Usar el método de mínimos cuadrados para interpolar los puntos.\n",
    "* Graficar la función cuadrática y los puntos dados.\n",
    "* Listar los cambios realizados.\n",
    "* Modificar y utilizar SOLO el código provisto. No se aceptarán la utilización de otras librerías o funciones."
   ]
  },
  {
   "cell_type": "code",
   "execution_count": 5,
   "metadata": {},
   "outputs": [],
   "source": [
    "# ####################################################################\n",
    "def der_parcial_0_exp(xs: list, ys: list) -> tuple[float, float, float]:\n",
    "    \"\"\"Retorna los coeficientes de la ecuación de la derivada parcial con respecto al parámetro 1 al reemplazar los valores ``xs`` y ``ys``. La ecuación es de la forma:\n",
    "    c_2 * a_2 + c_1 * a_1 + c_0 * a_0 = c_ind\n",
    "\n",
    "\n",
    "    ## Parameters\n",
    "\n",
    "    ``xs``: lista de valores de x.\n",
    "\n",
    "    ``ys``: lista de valores de y.\n",
    "\n",
    "    ## Return\n",
    "\n",
    "    ``c_2``: coeficiente del parámetro 2.\n",
    "\n",
    "    ``c_1``: coeficiente del parámetro 1.\n",
    "\n",
    "    ``c_0``: coeficiente del parámetro 0.\n",
    "\n",
    "    ``c_ind``: coeficiente del término independiente.\n",
    "\n",
    "    \"\"\"\n",
    "    \n",
    "    # Completar\n",
    "    c_2 = 0\n",
    "    c_1 = 0\n",
    "    c_0 = 0\n",
    "    c_ind = 0\n",
    "    for xi, yi in zip(xs, ys):\n",
    "        # coeficiente del término independiente\n",
    "        c_ind += xi * xi * yi\n",
    "\n",
    "        # coeficiente del parámetro 1\n",
    "        c_2 += xi * xi * xi * xi\n",
    "        \n",
    "        # coeficiente del parámetro 1\n",
    "        c_1 += xi * xi * xi\n",
    "\n",
    "        # coeficiente del parámetro 0\n",
    "        c_0 += xi * xi\n",
    "\n",
    "    return (c_2, c_1, c_0, c_ind)\n",
    "\n",
    "# ####################################################################\n",
    "def der_parcial_1_exp(xs: list, ys: list) -> tuple[float, float, float]:\n",
    "    \"\"\"Retorna los coeficientes de la ecuación de la derivada parcial con respecto al parámetro 1 al reemplazar los valores ``xs`` y ``ys``. La ecuación es de la forma:\n",
    "    c_2 * a_2 + c_1 * a_1 + c_0 * a_0 = c_ind\n",
    "\n",
    "\n",
    "    ## Parameters\n",
    "\n",
    "    ``xs``: lista de valores de x.\n",
    "\n",
    "    ``ys``: lista de valores de y.\n",
    "\n",
    "    ## Return\n",
    "\n",
    "    ``c_2``: coeficiente del parámetro 2.\n",
    "\n",
    "    ``c_1``: coeficiente del parámetro 1.\n",
    "\n",
    "    ``c_0``: coeficiente del parámetro 0.\n",
    "\n",
    "    ``c_ind``: coeficiente del término independiente.\n",
    "\n",
    "    \"\"\"\n",
    "    \n",
    "    # Completar\n",
    "    c_2 = 0\n",
    "    c_1 = 0\n",
    "    c_0 = 0\n",
    "    c_ind = 0\n",
    "    for xi, yi in zip(xs, ys):\n",
    "        # coeficiente del término independiente\n",
    "        c_ind += xi * yi\n",
    "\n",
    "        # coeficiente del parámetro 1\n",
    "        c_2 += xi * xi * xi\n",
    "        \n",
    "        # coeficiente del parámetro 1\n",
    "        c_1 += xi * xi\n",
    "\n",
    "        # coeficiente del parámetro 0\n",
    "        c_0 += xi\n",
    "\n",
    "    return (c_2, c_1, c_0, c_ind)\n",
    "\n",
    "# ####################################################################\n",
    "def der_parcial_2_exp(xs: list, ys: list) -> tuple[float, float, float]:\n",
    "    \"\"\"Retorna los coeficientes de la ecuación de la derivada parcial con respecto al parámetro 1 al reemplazar los valores ``xs`` y ``ys``. La ecuación es de la forma:\n",
    "    c_2 * a_2 + c_1 * a_1 + c_0 * a_0 = c_ind\n",
    "\n",
    "\n",
    "    ## Parameters\n",
    "\n",
    "    ``xs``: lista de valores de x.\n",
    "\n",
    "    ``ys``: lista de valores de y.\n",
    "\n",
    "    ## Return\n",
    "\n",
    "    ``c_2``: coeficiente del parámetro 2.\n",
    "\n",
    "    ``c_1``: coeficiente del parámetro 1.\n",
    "\n",
    "    ``c_0``: coeficiente del parámetro 0.\n",
    "\n",
    "    ``c_ind``: coeficiente del término independiente.\n",
    "\n",
    "    \"\"\"\n",
    "    \n",
    "    # Completar\n",
    "    c_2 = 0\n",
    "    c_1 = sum(xs)\n",
    "    c_0 = len(xs)\n",
    "    c_ind = sum(ys)\n",
    "    for xi in xs:\n",
    "        # coeficiente del parámetro 1\n",
    "        c_2 += xi * xi\n",
    "\n",
    "    return (c_2, c_1, c_0, c_ind)"
   ]
  },
  {
   "cell_type": "code",
   "execution_count": 7,
   "metadata": {},
   "outputs": [],
   "source": [
    "# ####################################################################\n",
    "def curva(x: float, pars: tuple[float]) -> float:\n",
    "    \"\"\"Ecuación de la recta y = a2 * x**2 + a1 * x + a0.\n",
    "\n",
    "    ## Parameters\n",
    "\n",
    "    ``x``: valor de x.\n",
    "\n",
    "    ``pars``: parámetros de la recta. Deben ser de la forma (a1, a0).\n",
    "\n",
    "    ## Return\n",
    "\n",
    "    ``y``: valor de y.\n",
    "\n",
    "    \"\"\"\n",
    "    a2, a1, a0 = pars\n",
    "    return a2 * x**2 + a1 * x + a0"
   ]
  },
  {
   "cell_type": "code",
   "execution_count": 10,
   "metadata": {},
   "outputs": [
    {
     "name": "stdout",
     "output_type": "stream",
     "text": [
      "[07-19 19:46:41][INFO] Se ajustarán 3 parámetros.\n",
      "[07-19 19:46:41][INFO] \n",
      "[[ 1.01852593e+02  0.00000000e+00  1.00000000e+01  1.99808900e+02]\n",
      " [ 0.00000000e+00  1.01852593e+02  0.00000000e+00 -1.14413577e+02]\n",
      " [-2.27373675e-13  0.00000000e+00 -7.90113041e+01  5.04294087e+01]]\n",
      "[07-19 19:46:41][INFO] \n",
      "[[ 1.01852593e+02  0.00000000e+00  1.00000000e+01  1.99808900e+02]\n",
      " [ 0.00000000e+00  1.01852593e+02  0.00000000e+00 -1.14413577e+02]\n",
      " [-2.27373675e-13  0.00000000e+00 -7.90113041e+01  5.04294087e+01]]\n"
     ]
    }
   ],
   "source": [
    "%autoreload 2\n",
    "from src import ajustar_min_cuadrados\n",
    "\n",
    "x = np.linspace(-5, 5, 100)\n",
    "\n",
    "pars = ajustar_min_cuadrados(xs2, ys2, gradiente=[der_parcial_0_exp, der_parcial_1_exp, der_parcial_2_exp])"
   ]
  },
  {
   "cell_type": "code",
   "execution_count": 9,
   "metadata": {},
   "outputs": [
    {
     "name": "stdout",
     "output_type": "stream",
     "text": [
      "[07-19 19:45:34][INFO] Se ajustarán 3 parámetros.\n",
      "[07-19 19:45:34][INFO] \n",
      "[[ 1.01852593e+02  0.00000000e+00  1.00000000e+01  1.99808900e+02]\n",
      " [ 0.00000000e+00  1.01852593e+02  0.00000000e+00 -1.14413577e+02]\n",
      " [-2.27373675e-13  0.00000000e+00 -7.90113041e+01  5.04294087e+01]]\n",
      "[07-19 19:45:34][INFO] \n",
      "[[ 1.01852593e+02  0.00000000e+00  1.00000000e+01  1.99808900e+02]\n",
      " [ 0.00000000e+00  1.01852593e+02  0.00000000e+00 -1.14413577e+02]\n",
      " [-2.27373675e-13  0.00000000e+00 -7.90113041e+01  5.04294087e+01]]\n"
     ]
    },
    {
     "data": {
      "image/png": "[encoded data removed]",
      "text/plain": [
       "<Figure size 640x480 with 1 Axes>"
      ]
     },
     "metadata": {},
     "output_type": "display_data"
    }
   ],
   "source": [
    "x = np.linspace(-5, 5, 100)\n",
    "\n",
    "pars = ajustar_min_cuadrados(xs2, ys2, gradiente=[der_parcial_0_exp, der_parcial_1_exp, der_parcial_2_exp])\n",
    "\n",
    "y = [curva(xi, pars) for xi in x]\n",
    "\n",
    "plt.scatter(xs2, ys2, label=\"Datos\")\n",
    "plt.plot(x, y, color=\"red\", label=r\"$ y = a_1 x + a_0 $\")\n",
    "plt.xlabel(\"x\")\n",
    "plt.ylabel(\"y\")\n",
    "plt.title(\"Ajuste por mínimos cuadrados\")\n",
    "plt.legend()\n",
    "plt.show()"
   ]
  }
 ],
 "metadata": {
  "kernelspec": {
   "display_name": "Python 3",
   "language": "python",
   "name": "python3"
  },
  "language_info": {
   "codemirror_mode": {
    "name": "ipython",
    "version": 3
   },
   "file_extension": ".py",
   "mimetype": "text/x-python",
   "name": "python",
   "nbconvert_exporter": "python",
   "pygments_lexer": "ipython3",
   "version": "3.12.2"
  }
 },
 "nbformat": 4,
 "nbformat_minor": 2
}
